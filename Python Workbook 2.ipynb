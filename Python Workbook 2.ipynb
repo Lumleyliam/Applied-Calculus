{
  "cells": [
    {
      "cell_type": "markdown",
      "metadata": {
        "id": "view-in-github",
        "colab_type": "text"
      },
      "source": [
        "<a href=\"https://colab.research.google.com/github/tlyonsSETU/Applied-Calculus/blob/main/Python%20Workbook%202.ipynb\" target=\"_parent\"><img src=\"https://colab.research.google.com/assets/colab-badge.svg\" alt=\"Open In Colab\"/></a>"
      ]
    },
    {
      "cell_type": "markdown",
      "metadata": {
        "id": "fEO9D8FL2_TJ"
      },
      "source": [
        "### Name:\n",
        "### Student Number:"
      ]
    },
    {
      "cell_type": "markdown",
      "source": [
        "### Importing the required functions\n",
        "---"
      ],
      "metadata": {
        "id": "TObwFT-UEzZE"
      }
    },
    {
      "cell_type": "code",
      "execution_count": 20,
      "metadata": {
        "id": "8StfKvNF2_TR"
      },
      "outputs": [],
      "source": [
        "import matplotlib.pyplot as plt\n",
        "import numpy as np"
      ]
    },
    {
      "cell_type": "markdown",
      "source": [
        "* The cell below allowes for different possible plot styles:"
      ],
      "metadata": {
        "id": "UvsTLStCExPo"
      }
    },
    {
      "cell_type": "code",
      "source": [
        "import matplotlib.style as style # For changing the plot style used for graphs\n",
        "style.use('ggplot')"
      ],
      "metadata": {
        "id": "ZzxBHrUxEfan"
      },
      "execution_count": 21,
      "outputs": []
    },
    {
      "cell_type": "markdown",
      "source": [
        "* A full list of availbel styles for use inside __style.use()__ is given by running the next cell."
      ],
      "metadata": {
        "id": "6AOVhbp-GsS_"
      }
    },
    {
      "cell_type": "code",
      "source": [
        "style.available"
      ],
      "metadata": {
        "id": "04sIxs4nGezw",
        "colab": {
          "base_uri": "https://localhost:8080/"
        },
        "outputId": "b4a4a3cc-50ea-44ba-f50f-e5fe4849c387"
      },
      "execution_count": 22,
      "outputs": [
        {
          "output_type": "execute_result",
          "data": {
            "text/plain": [
              "['Solarize_Light2',\n",
              " '_classic_test_patch',\n",
              " 'bmh',\n",
              " 'classic',\n",
              " 'dark_background',\n",
              " 'fast',\n",
              " 'fivethirtyeight',\n",
              " 'ggplot',\n",
              " 'grayscale',\n",
              " 'seaborn',\n",
              " 'seaborn-bright',\n",
              " 'seaborn-colorblind',\n",
              " 'seaborn-dark',\n",
              " 'seaborn-dark-palette',\n",
              " 'seaborn-darkgrid',\n",
              " 'seaborn-deep',\n",
              " 'seaborn-muted',\n",
              " 'seaborn-notebook',\n",
              " 'seaborn-paper',\n",
              " 'seaborn-pastel',\n",
              " 'seaborn-poster',\n",
              " 'seaborn-talk',\n",
              " 'seaborn-ticks',\n",
              " 'seaborn-white',\n",
              " 'seaborn-whitegrid',\n",
              " 'tableau-colorblind10']"
            ]
          },
          "metadata": {},
          "execution_count": 22
        }
      ]
    },
    {
      "cell_type": "markdown",
      "metadata": {
        "id": "PaxduvWbC_2k"
      },
      "source": [
        "# Python Workbook 2 - Exponents & Logs \n",
        "\n",
        "* In this workbook we are going to cover the following topics:\n",
        "\n",
        "  1. __Exponential Functions:__ Their domains and graphs\n",
        "    \n",
        "  2. __Logarithmic functions:__ Their domains and graphs\n",
        "    \n",
        "  3. __Important exponents and logs:__ The functions $e^{x}$ and $\\ln(x)$\n",
        "    "
      ]
    },
    {
      "cell_type": "markdown",
      "metadata": {
        "id": "Lf5Uaj0GC_2m"
      },
      "source": [
        "___\n",
        "# Section 1 - Exponential Functions\n",
        "\n",
        "In this section we will examine __exponential__ functions of the form\n",
        "\n",
        "$$\n",
        "f(x) = b^{x},\n",
        "$$\n",
        "\n",
        "where $b$ is a __positive number__ and the input $x$ is usually _any real number._\n",
        "\n",
        "___\n",
        "\n",
        "\n",
        "## Section 1.1: What are Exponentials?\n",
        "\n",
        "* When we say something like $4^{3}$ we mean $4\\times4\\times4$, i.e. multiply $4$ by itself $3$ times.\n",
        "\n",
        "\n",
        "* In this case the number $4$ is called the __base__ while the power $3$ is called the __exponent.__\n",
        "\n",
        "\n",
        "* The exponent is usually any real number between $-\\infty$ and $\\infty$. \n",
        "\n",
        "\n",
        "* In particular, if the exponent is a __fraction or decimal__ it means we take the corresponding __root__ of the number: For example, $4^{\\frac{1}{5}}$ means the $\\mathrm{5^{th}-root}$ of $4$ or in other words $\\sqrt[5]{4}$.\n",
        "\n",
        "\n",
        "* Even more generally, $4^{\\frac{m}{n}}$ means the $\\mathrm{n^{th}-root}$ of $4$ rased to the power of $m$, i.e. $\\left(\\sqrt[n]{4}\\right)^{m}$, where $m$ and $n$ are any __numbers__\n",
        "\n",
        "\n",
        "* A __negative exponent__ means we take __1-over-the-positive-power__, for example $4^{-3}$ means $\\frac{1}{4^{3}}$."
      ]
    },
    {
      "cell_type": "markdown",
      "metadata": {
        "id": "AdSIHr2FC_2n"
      },
      "source": [
        "## Defining a 2-variable function\n",
        "\n",
        "* We can define a very general function to calcualte the exponential of any base, i.e. a function \n",
        "\n",
        "$$\n",
        "f(b,x) = b^{x};\\quad 0<b<\\infty\\quad -\\infty<x<\\infty.\n",
        "$$"
      ]
    },
    {
      "cell_type": "code",
      "execution_count": 23,
      "metadata": {
        "id": "6dGbAg0MC_2o"
      },
      "outputs": [],
      "source": [
        "def EXP(b,x):\n",
        "    return b**x"
      ]
    },
    {
      "cell_type": "markdown",
      "metadata": {
        "id": "D7czPW-YC_2o"
      },
      "source": [
        "* __IMPORTANT:__ We do not call our function __exp()__ because this is a particularly important function already defined in __numpy__"
      ]
    },
    {
      "cell_type": "markdown",
      "metadata": {
        "id": "CcHJZiWiC_2o"
      },
      "source": [
        "## __Example 1.1__ \n",
        "\n",
        "* Use the function __EXP()__ to calculate the following:\n",
        "\n",
        "    1. $4^{1.54}$\n",
        "    \n",
        "    2. $3.5^{\\frac{2}{7}}$\n",
        "    \n",
        "    3. $0.45^{-0.32}$\n",
        "    \n",
        "\n",
        "* Use the function __EXP()__ to show that $(-2)^{\\frac{1}{2}}$ and  $(-2)^{\\frac{1}{3}}$ are __not real valued__."
      ]
    },
    {
      "cell_type": "markdown",
      "metadata": {
        "id": "PIUYRMOWC_2p"
      },
      "source": [
        "### Solution:\n",
        "\n",
        "* The first three cases are __real numbers__, as we can see below:"
      ]
    },
    {
      "cell_type": "code",
      "execution_count": 24,
      "metadata": {
        "colab": {
          "base_uri": "https://localhost:8080/"
        },
        "id": "E9N3W5BKC_2p",
        "outputId": "aa67d126-7966-4e3d-b524-fa0ad66f1e85"
      },
      "outputs": [
        {
          "output_type": "execute_result",
          "data": {
            "text/plain": [
              "8.456144324491044"
            ]
          },
          "metadata": {},
          "execution_count": 24
        }
      ],
      "source": [
        "EXP(4,1.54)"
      ]
    },
    {
      "cell_type": "code",
      "execution_count": 25,
      "metadata": {
        "colab": {
          "base_uri": "https://localhost:8080/"
        },
        "id": "a6v7B4hvC_2q",
        "outputId": "bb3f191e-4ec3-4672-fb47-b62fca0abf0d"
      },
      "outputs": [
        {
          "output_type": "execute_result",
          "data": {
            "text/plain": [
              "1.4303687479263856"
            ]
          },
          "metadata": {},
          "execution_count": 25
        }
      ],
      "source": [
        "EXP(3.5,2/7)"
      ]
    },
    {
      "cell_type": "code",
      "execution_count": 26,
      "metadata": {
        "colab": {
          "base_uri": "https://localhost:8080/"
        },
        "id": "7PB1aFDWC_2q",
        "outputId": "282e1534-4353-4121-c506-94367537d953"
      },
      "outputs": [
        {
          "output_type": "execute_result",
          "data": {
            "text/plain": [
              "1.2911360152089475"
            ]
          },
          "metadata": {},
          "execution_count": 26
        }
      ],
      "source": [
        "EXP(0.45,-0.32)"
      ]
    },
    {
      "cell_type": "markdown",
      "metadata": {
        "id": "WpPAnk98C_2r"
      },
      "source": [
        "* We will use the __np.round(,4)__ function to make our answers easier understand.\n",
        "\n",
        "\n",
        "* The next case returns the following value to 4 d.p.\n"
      ]
    },
    {
      "cell_type": "code",
      "execution_count": 27,
      "metadata": {
        "colab": {
          "base_uri": "https://localhost:8080/"
        },
        "id": "1yxNE3lKC_2s",
        "outputId": "138365f2-4af2-4f7e-8ba7-87d933787c68"
      },
      "outputs": [
        {
          "output_type": "execute_result",
          "data": {
            "text/plain": [
              "1.4142j"
            ]
          },
          "metadata": {},
          "execution_count": 27
        }
      ],
      "source": [
        "np.round(EXP(-2,1/2),4)"
      ]
    },
    {
      "cell_type": "markdown",
      "metadata": {
        "id": "IxoCtMlyC_2s"
      },
      "source": [
        "* We find the answer $1.4142j$ where $j=\\sqrt{-1}$ and $\\sqrt{2}=1.4142$.\n",
        "\n",
        "\n",
        "* This makes sense because \n",
        "$$\n",
        "(-2)^{\\frac{1}{2}} = \\sqrt{-2}=\\sqrt{(2)(-1)}=\\sqrt{2}{\\sqrt{-1}} = 1.4142j.\n",
        "$$\n",
        "\n",
        "\n",
        "* This is why we must be careful when defining exponential functions, because  __fractions as exponents means taking roots__ and roots of __negative numbers__ often reqire __imaginary numbers__ using  $j=\\sqrt{-1}$."
      ]
    },
    {
      "cell_type": "markdown",
      "metadata": {
        "id": "iHnLDNaVC_2s"
      },
      "source": [
        "* We also find $(-2)^{\\frac{1}{3}}$ is "
      ]
    },
    {
      "cell_type": "code",
      "execution_count": 28,
      "metadata": {
        "colab": {
          "base_uri": "https://localhost:8080/"
        },
        "id": "6Wty7fXaC_2t",
        "outputId": "623db645-eb72-4b82-831b-054bd26d745b"
      },
      "outputs": [
        {
          "output_type": "execute_result",
          "data": {
            "text/plain": [
              "(0.63+1.0911j)"
            ]
          },
          "metadata": {},
          "execution_count": 28
        }
      ],
      "source": [
        "np.round(EXP(-2,1/3),4)"
      ]
    },
    {
      "cell_type": "markdown",
      "metadata": {
        "id": "Ls8sGh2PC_2t"
      },
      "source": [
        "* Again, this is a __complex number__ because we are taking the __cube root__ of a negative number, which can have __real or complex__ values."
      ]
    },
    {
      "cell_type": "markdown",
      "metadata": {
        "id": "TeZFNJH6C_2t"
      },
      "source": [
        "## Exercise 1.1\n",
        "\n",
        "* Use the __EXP()__ function to calculate the following:\n",
        "\n",
        "  1. $5.68^{-1.32}$\n",
        "    \n",
        "  2. $0.56^{3.48}$\n",
        "    \n",
        "  3. $8.5^{-3/19}$"
      ]
    },
    {
      "cell_type": "code",
      "execution_count": 28,
      "metadata": {
        "id": "Bs1Qtog3C_2t"
      },
      "outputs": [],
      "source": []
    },
    {
      "cell_type": "code",
      "execution_count": 28,
      "metadata": {
        "id": "MiKhajQZC_2t"
      },
      "outputs": [],
      "source": []
    },
    {
      "cell_type": "code",
      "execution_count": 28,
      "metadata": {
        "id": "JrtcuoxGC_2u"
      },
      "outputs": [],
      "source": []
    },
    {
      "cell_type": "markdown",
      "metadata": {
        "id": "xDBCoUswC_2u"
      },
      "source": [
        "* Use __EXP()__ and __np.round( ,3)__ to show that $(-1.3)^{1.5}$ and $(-8.7)^{0.44}$ are both __complex numbers__ (i.e. numbers involving $j$)."
      ]
    },
    {
      "cell_type": "code",
      "execution_count": 28,
      "metadata": {
        "id": "VuVmVZdOC_2u"
      },
      "outputs": [],
      "source": []
    },
    {
      "cell_type": "code",
      "execution_count": 28,
      "metadata": {
        "id": "W9lSoZ32C_2u"
      },
      "outputs": [],
      "source": []
    },
    {
      "cell_type": "code",
      "execution_count": 28,
      "metadata": {
        "id": "b4i5x4lDC_2u"
      },
      "outputs": [],
      "source": []
    },
    {
      "cell_type": "markdown",
      "metadata": {
        "id": "cWxtKzsmC_2u"
      },
      "source": [
        "# Section 1.2 - Graphs of exponential functions\n",
        "\n",
        "* When the base $b$ appearing in $b^{x}$ is a __positve number__, then we can use __any number__ $x\\in(-\\infty,\\infty)$ for the __exponent__, and still get a __real output__.\n",
        "\n",
        "\n",
        "* This means we can always plot the graph of $b^x$ if $b>0$."
      ]
    },
    {
      "cell_type": "markdown",
      "metadata": {
        "id": "wGgV0rUGC_2v"
      },
      "source": [
        "## _Example 1.2_\n",
        "\n",
        "1. Use __np.linspace()__ to create the interval __X = [-4 , 3]__ with __N=161__ points.\n",
        "\n",
        "\n",
        "2. Now use __EXP()__ to calculate $2.25^{x}$ for each value in the interval __X.__\n",
        "\n",
        "\n",
        "3. Plot the graph of $2.25^{x}$ along the interval __X__. Include the $x$ and $y$ axes in this plot (see __Python Workbook 1__ if you forget!!)."
      ]
    },
    {
      "cell_type": "markdown",
      "metadata": {
        "id": "mXA1ywFfC_2v"
      },
      "source": [
        "### Solution\n",
        "\n",
        "1. The interval is given by"
      ]
    },
    {
      "cell_type": "code",
      "execution_count": 29,
      "metadata": {
        "colab": {
          "base_uri": "https://localhost:8080/"
        },
        "id": "YwC1nIWlC_2v",
        "outputId": "0e46237e-6d13-4fe8-b546-b2dc3578f961"
      },
      "outputs": [
        {
          "output_type": "execute_result",
          "data": {
            "text/plain": [
              "array([-4.     , -3.95625, -3.9125 , -3.86875, -3.825  , -3.78125,\n",
              "       -3.7375 , -3.69375, -3.65   , -3.60625, -3.5625 , -3.51875,\n",
              "       -3.475  , -3.43125, -3.3875 , -3.34375, -3.3    , -3.25625,\n",
              "       -3.2125 , -3.16875, -3.125  , -3.08125, -3.0375 , -2.99375,\n",
              "       -2.95   , -2.90625, -2.8625 , -2.81875, -2.775  , -2.73125,\n",
              "       -2.6875 , -2.64375, -2.6    , -2.55625, -2.5125 , -2.46875,\n",
              "       -2.425  , -2.38125, -2.3375 , -2.29375, -2.25   , -2.20625,\n",
              "       -2.1625 , -2.11875, -2.075  , -2.03125, -1.9875 , -1.94375,\n",
              "       -1.9    , -1.85625, -1.8125 , -1.76875, -1.725  , -1.68125,\n",
              "       -1.6375 , -1.59375, -1.55   , -1.50625, -1.4625 , -1.41875,\n",
              "       -1.375  , -1.33125, -1.2875 , -1.24375, -1.2    , -1.15625,\n",
              "       -1.1125 , -1.06875, -1.025  , -0.98125, -0.9375 , -0.89375,\n",
              "       -0.85   , -0.80625, -0.7625 , -0.71875, -0.675  , -0.63125,\n",
              "       -0.5875 , -0.54375, -0.5    , -0.45625, -0.4125 , -0.36875,\n",
              "       -0.325  , -0.28125, -0.2375 , -0.19375, -0.15   , -0.10625,\n",
              "       -0.0625 , -0.01875,  0.025  ,  0.06875,  0.1125 ,  0.15625,\n",
              "        0.2    ,  0.24375,  0.2875 ,  0.33125,  0.375  ,  0.41875,\n",
              "        0.4625 ,  0.50625,  0.55   ,  0.59375,  0.6375 ,  0.68125,\n",
              "        0.725  ,  0.76875,  0.8125 ,  0.85625,  0.9    ,  0.94375,\n",
              "        0.9875 ,  1.03125,  1.075  ,  1.11875,  1.1625 ,  1.20625,\n",
              "        1.25   ,  1.29375,  1.3375 ,  1.38125,  1.425  ,  1.46875,\n",
              "        1.5125 ,  1.55625,  1.6    ,  1.64375,  1.6875 ,  1.73125,\n",
              "        1.775  ,  1.81875,  1.8625 ,  1.90625,  1.95   ,  1.99375,\n",
              "        2.0375 ,  2.08125,  2.125  ,  2.16875,  2.2125 ,  2.25625,\n",
              "        2.3    ,  2.34375,  2.3875 ,  2.43125,  2.475  ,  2.51875,\n",
              "        2.5625 ,  2.60625,  2.65   ,  2.69375,  2.7375 ,  2.78125,\n",
              "        2.825  ,  2.86875,  2.9125 ,  2.95625,  3.     ])"
            ]
          },
          "metadata": {},
          "execution_count": 29
        }
      ],
      "source": [
        "X=np.linspace(-4,3,161)\n",
        "X"
      ]
    },
    {
      "cell_type": "markdown",
      "metadata": {
        "id": "oE4HKLyHC_2v"
      },
      "source": [
        "2. The function $2.25^{x}$ for all $x$-values in the interval __X__ gives "
      ]
    },
    {
      "cell_type": "code",
      "execution_count": 30,
      "metadata": {
        "colab": {
          "base_uri": "https://localhost:8080/"
        },
        "id": "SUIYnTgDC_2w",
        "outputId": "6f57a336-4871-45a9-f1bc-70e95b3f266f"
      },
      "outputs": [
        {
          "output_type": "execute_result",
          "data": {
            "text/plain": [
              "array([ 0.03901844,  0.0404276 ,  0.04188764,  0.04340042,  0.04496782,\n",
              "        0.04659184,  0.04827451,  0.05001794,  0.05182434,  0.05369598,\n",
              "        0.05563522,  0.05764449,  0.05972632,  0.06188334,  0.06411826,\n",
              "        0.06643389,  0.06883316,  0.07131907,  0.07389476,  0.07656348,\n",
              "        0.07932857,  0.08219353,  0.08516195,  0.08823758,  0.09142428,\n",
              "        0.09472608,  0.09814712,  0.1016917 ,  0.10536431,  0.10916954,\n",
              "        0.11311221,  0.11719726,  0.12142985,  0.12581529,  0.13035912,\n",
              "        0.13506705,  0.139945  ,  0.14499912,  0.15023578,  0.15566155,\n",
              "        0.16128328,  0.16710803,  0.17314315,  0.17939622,  0.18587513,\n",
              "        0.19258802,  0.19954334,  0.20674986,  0.21421665,  0.22195309,\n",
              "        0.22996894,  0.23827428,  0.24687957,  0.25579564,  0.26503372,\n",
              "        0.27460542,  0.28452282,  0.29479837,  0.30544503,  0.3164762 ,\n",
              "        0.32790575,  0.33974809,  0.35201811,  0.36473127,  0.37790356,\n",
              "        0.39155156,  0.40569247,  0.42034408,  0.43552483,  0.45125383,\n",
              "        0.46755089,  0.48443652,  0.50193197,  0.52005927,  0.53884124,\n",
              "        0.55830153,  0.57846462,  0.5993559 ,  0.62100167,  0.64342918,\n",
              "        0.66666667,  0.69074337,  0.71568961,  0.74153678,  0.76831742,\n",
              "        0.79606525,  0.82481519,  0.85460344,  0.88546749,  0.9174462 ,\n",
              "        0.95057982,  0.98491007,  1.02048015,  1.05733485,  1.09552056,\n",
              "        1.13508535,  1.17607902,  1.21855318,  1.2625613 ,  1.30815878,\n",
              "        1.35540301,  1.40435346,  1.45507177,  1.50762177,  1.56206962,\n",
              "        1.61848385,  1.67693549,  1.73749811,  1.80024795,  1.86526401,\n",
              "        1.93262813,  2.0024251 ,  2.0747428 ,  2.14967226,  2.22730779,\n",
              "        2.30774714,  2.39109156,  2.47744597,  2.56691908,  2.65962351,\n",
              "        2.75567596,  2.85519736,  2.95831297,  3.06515262,  3.17585078,\n",
              "        3.29054681,  3.4093851 ,  3.53251524,  3.66009223,  3.79227667,\n",
              "        3.92923496,  4.0711395 ,  4.21816894,  4.37050836,  4.52834952,\n",
              "        4.69189112,  4.86133904,  5.03690657,  5.21881474,  5.40729254,\n",
              "        5.60257722,  5.80491462,  6.01455944,  6.2317756 ,  6.45683653,\n",
              "        6.69002556,  6.93163621,  7.18197265,  7.44135001,  7.71009479,\n",
              "        7.98854531,  8.27705208,  8.57597829,  8.88570024,  9.20660781,\n",
              "        9.53910498,  9.88361031, 10.24055746, 10.61039578, 10.99359084,\n",
              "       11.390625  ])"
            ]
          },
          "metadata": {},
          "execution_count": 30
        }
      ],
      "source": [
        "EXP(2.25,X)"
      ]
    },
    {
      "cell_type": "markdown",
      "metadata": {
        "id": "WHy-8NMLC_2w"
      },
      "source": [
        "* As you can see, all these __outputs are real and positive!__\n",
        "\n",
        "\n",
        "* This is because the base $b=2.25$ is  __positive__. "
      ]
    },
    {
      "cell_type": "markdown",
      "metadata": {
        "id": "Bln7l5h5C_2w"
      },
      "source": [
        "3. The graph of the function $2.25^{x}$ for each value $x\\in $ __X__ is given by: "
      ]
    },
    {
      "cell_type": "code",
      "execution_count": 31,
      "metadata": {
        "colab": {
          "base_uri": "https://localhost:8080/",
          "height": 282
        },
        "id": "Jy0BUFmWC_2w",
        "outputId": "814ec302-fce6-4b82-a32a-3c73f638d3f7"
      },
      "outputs": [
        {
          "output_type": "display_data",
          "data": {
            "text/plain": [
              "<Figure size 432x288 with 1 Axes>"
            ],
            "image/png": "[encoded data removed]"
          },
          "metadata": {}
        }
      ],
      "source": [
        "plt.plot(X,EXP(2.25,X),lw=2,c='dodgerblue') # Plot the graph of 2.25**a for a in A\n",
        "\n",
        "plt.axhline(y=0,lw=0.75,c='black') # Plot the x-axis\n",
        "plt.axvline(x=0,lw=0.75,c='black') # Plot the y-axis\n",
        "\n",
        "plt.xlabel('$x$')\n",
        "plt.ylabel('$2.25^{x}$')\n",
        "\n",
        "plt.show();"
      ]
    },
    {
      "cell_type": "markdown",
      "metadata": {
        "id": "f3tkRYppC_2x"
      },
      "source": [
        "* Notice that the graph of $2.25^x$ __increases__ as the exponent increases, i.e as $\\mathbf{x\\to+\\infty}$.\n",
        "\n",
        "\n",
        "* Conversely, the graph of $2.25^x$ __decreases__ as the exponent decreases, i.e. as $\\mathbf{x\\to-\\infty}$.\n",
        "\n",
        "\n",
        "* Also, the graph __never crosses the x-axis__ since the output is __always positive.__"
      ]
    },
    {
      "cell_type": "markdown",
      "metadata": {
        "id": "a84MxdIuC_2x"
      },
      "source": [
        "## Exercise 1.2\n",
        "\n",
        "1. Use __np.linspace()__ to define the interval __T = [-2 , 5]__ with __N = 201__ points."
      ]
    },
    {
      "cell_type": "code",
      "execution_count": 31,
      "metadata": {
        "id": "FzdV2I0SC_2x"
      },
      "outputs": [],
      "source": []
    },
    {
      "cell_type": "code",
      "execution_count": 31,
      "metadata": {
        "id": "y0CDcn0NC_2x"
      },
      "outputs": [],
      "source": []
    },
    {
      "cell_type": "markdown",
      "metadata": {
        "id": "6u2uG0daC_2y"
      },
      "source": [
        "2. Use __EXP()__ to calculate $3.2^{-t}$ for $t\\in$ __T__ and display these output values."
      ]
    },
    {
      "cell_type": "code",
      "execution_count": 31,
      "metadata": {
        "id": "TEo6q-cLC_2y"
      },
      "outputs": [],
      "source": []
    },
    {
      "cell_type": "code",
      "execution_count": 31,
      "metadata": {
        "id": "puZTmgFNC_2y"
      },
      "outputs": [],
      "source": []
    },
    {
      "cell_type": "markdown",
      "metadata": {
        "id": "Df_-b-iTC_2y"
      },
      "source": [
        "3. Plot the graph of $3.2^{-t}$ along the interval __T__. \n",
        "\n",
        "\n",
        "* According to this graph, does the function $3.2^{-t}$ increase or decrease as $\\mathbf{ t \\to + \\infty ?}$"
      ]
    },
    {
      "cell_type": "code",
      "execution_count": 31,
      "metadata": {
        "id": "dVO5bC56C_2y"
      },
      "outputs": [],
      "source": []
    },
    {
      "cell_type": "code",
      "source": [],
      "metadata": {
        "id": "RcskuOkQcdl-"
      },
      "execution_count": 31,
      "outputs": []
    },
    {
      "cell_type": "code",
      "source": [],
      "metadata": {
        "id": "oFmGZwm1cd21"
      },
      "execution_count": 31,
      "outputs": []
    },
    {
      "cell_type": "markdown",
      "source": [
        "---\n",
        "\n",
        "# Section 2: Logarithmic Functions\n",
        "\n",
        "* The __inverse__ of exponential functions are called __logarithmic__  functions of the form\n",
        "$$\n",
        "g(a) = \\log_{b} (a)\n",
        "$$\n",
        "where the __base__ $b$ is again a __positive number__, while the input $a$ must also be a __positive real number.__\n",
        "\n",
        "---"
      ],
      "metadata": {
        "id": "WL-8uDlCZrXl"
      }
    },
    {
      "cell_type": "markdown",
      "source": [
        "# Section 2.1 - What are Logarithm Functions\n",
        "\n",
        "* The logarithm function \n",
        "$$\n",
        "\\log_{b}(a),\n",
        "$$\n",
        "tells us the __power__ $x$ we require so that $b^{x}=a$\n",
        "\n",
        "\n",
        "* The __base__ $b$ is required to be __positve__, otherwise we will get complex outputs.\n",
        "\n",
        "\n",
        "* It is also required that the __argument__ $a$ is positive, again so that we avoid complex outputs.\n",
        "\n",
        "\n",
        "## The available __log()__ functions\n",
        "\n",
        "* The __numpy__ library has a built-in __np.log()__ function, however the base __b__ can only accept select values, specifically $e$, $2$ and $10$.\n",
        "\n",
        "\n",
        "## Change of Base Formula\n",
        "\n",
        "* Most scientific calculators only allow us to calculate $\\log_{e}(a)$ (often called $\\ln(a)$ for __Natural Logarithm__) and $\\log_{10}(a)$.\n",
        "\n",
        "\n",
        "* However, we can always use either of these logarithms to calculate $\\log_{b}(a)$ for __any positive__ base $b$ using the formula:\n",
        "$$\n",
        "\\log_{b}(a) = \\frac{\\ln(a)}{\\ln(b)} \n",
        "$$\n",
        "or\n",
        "$$\n",
        "\\log_{b}(a) = \\frac{\\log_{10}(a)}{\\log_{10}(b)} \n",
        "$$\n",
        "\n",
        "* We can use this formula to __define__ our own __general logarithm function__ for any base b:"
      ],
      "metadata": {
        "id": "LMVzSRz9H2SU"
      }
    },
    {
      "cell_type": "code",
      "source": [
        "def LOG(a,b):\n",
        "    return np.log(a)/np.log(b)"
      ],
      "metadata": {
        "id": "LDRDLt5lK8ro"
      },
      "execution_count": 32,
      "outputs": []
    },
    {
      "cell_type": "markdown",
      "source": [
        "* The __numpy__ log function __np.log(a)__ means $\\ln(a)$, i.e. __np.log(a)__ means the __Natural Log__ of the argument __a__\n",
        "\n",
        "* Again, we call our function __LOG()__ since __np.log()__ is already defined in __numpy__"
      ],
      "metadata": {
        "id": "RFBXEB0iSK6f"
      }
    },
    {
      "cell_type": "markdown",
      "source": [
        "## _Example_ 2.1 - Logs as exponents\n",
        "\n",
        "Use the __LOG()__ function defined above to evaluate the following:\n",
        "\n",
        " 1. $\\log_{4}(14)$\n",
        "\n",
        " 2. $\\log_{1.3}(0.8)$\n"
      ],
      "metadata": {
        "id": "B8tfWV7fLW4V"
      }
    },
    {
      "cell_type": "code",
      "source": [
        "LOG(14,4) "
      ],
      "metadata": {
        "colab": {
          "base_uri": "https://localhost:8080/"
        },
        "id": "HHt5qc1iK8uH",
        "outputId": "df8161a6-9312-4c5b-88ec-4e7ff1c515d1"
      },
      "execution_count": 33,
      "outputs": [
        {
          "output_type": "execute_result",
          "data": {
            "text/plain": [
              "1.9036774610288019"
            ]
          },
          "metadata": {},
          "execution_count": 33
        }
      ]
    },
    {
      "cell_type": "markdown",
      "source": [
        "* This means $4^{1.9036774610288019}=14$.\n",
        "\n",
        "* We check this in the cell below:"
      ],
      "metadata": {
        "id": "q1MjDydhNxdl"
      }
    },
    {
      "cell_type": "code",
      "source": [
        "4**(1.9036774610288019)"
      ],
      "metadata": {
        "colab": {
          "base_uri": "https://localhost:8080/"
        },
        "id": "cNwHuXYkN-HN",
        "outputId": "3ca60c84-8906-4dbf-d883-7663723a6332"
      },
      "execution_count": 34,
      "outputs": [
        {
          "output_type": "execute_result",
          "data": {
            "text/plain": [
              "13.999999999999996"
            ]
          },
          "metadata": {},
          "execution_count": 34
        }
      ]
    },
    {
      "cell_type": "markdown",
      "source": [
        "* This is basically $14$ up to a rounding error, as it should be!!\n",
        "\n",
        "\n",
        "\n",
        "\n",
        "2. Similarly we find:"
      ],
      "metadata": {
        "id": "r4FKrM5iOHEY"
      }
    },
    {
      "cell_type": "code",
      "source": [
        "LOG(0.4,1.3)"
      ],
      "metadata": {
        "colab": {
          "base_uri": "https://localhost:8080/"
        },
        "id": "WHgFLdUAK8wf",
        "outputId": "d665af5b-9720-445d-9519-ad689d1f7cf3"
      },
      "execution_count": 35,
      "outputs": [
        {
          "output_type": "execute_result",
          "data": {
            "text/plain": [
              "-3.492437256018494"
            ]
          },
          "metadata": {},
          "execution_count": 35
        }
      ]
    },
    {
      "cell_type": "markdown",
      "source": [
        "* This tells us $1.3^{-3.492437256018494} = 0.4$, which we can also check as follows:"
      ],
      "metadata": {
        "id": "RPTqMmN3OfTh"
      }
    },
    {
      "cell_type": "code",
      "source": [
        "1.3**(LOG(0.4,1.3))"
      ],
      "metadata": {
        "colab": {
          "base_uri": "https://localhost:8080/"
        },
        "id": "qsFVn4vjK8y4",
        "outputId": "3d62c04f-0ebb-453b-fca9-75b8f64278da"
      },
      "execution_count": 36,
      "outputs": [
        {
          "output_type": "execute_result",
          "data": {
            "text/plain": [
              "0.39999999999999997"
            ]
          },
          "metadata": {},
          "execution_count": 36
        }
      ]
    },
    {
      "cell_type": "markdown",
      "source": [
        "---\n",
        "## IMPORTANT\n",
        "\n",
        "* In general we always have\n",
        "$$\n",
        "b^{\\log_{b}(a)} = a; \\qquad \\log_{b}(b^{x}) = x\n",
        "$$\n",
        "\n",
        "----"
      ],
      "metadata": {
        "id": "xwylUj7eMUfp"
      }
    },
    {
      "cell_type": "markdown",
      "source": [
        "## _Example 2.2_\n",
        "\n",
        "* Use __np.linspace()__ to define the interval __A = [ 0.45 , 5.15 ]__ with __N = 251__ points.\n",
        "\n",
        "\n",
        "\n",
        "\n"
      ],
      "metadata": {
        "id": "Jdy6ub4oPUZa"
      }
    },
    {
      "cell_type": "code",
      "source": [
        "A = np.linspace(0.45,5.15,251)"
      ],
      "metadata": {
        "id": "0V0Xigq8QG9y"
      },
      "execution_count": 37,
      "outputs": []
    },
    {
      "cell_type": "markdown",
      "source": [
        "\n",
        "* Use __log()__ to evaluate $\\log_{2.5}(a)$ for each $a\\in$ __A__"
      ],
      "metadata": {
        "id": "L49wifCmQHZW"
      }
    },
    {
      "cell_type": "code",
      "source": [
        "LOG(A,2.5)"
      ],
      "metadata": {
        "colab": {
          "base_uri": "https://localhost:8080/"
        },
        "id": "Jr5qtVhJQHjW",
        "outputId": "8cff4a28-e746-4642-81ff-35b7e19e6f6b"
      },
      "execution_count": 38,
      "outputs": [
        {
          "output_type": "execute_result",
          "data": {
            "text/plain": [
              "array([-0.8714567 , -0.82678894, -0.78387771, -0.74259008, -0.70280765,\n",
              "       -0.66442452, -0.62734559, -0.59148514, -0.55676562, -0.52311667,\n",
              "       -0.49047423, -0.45877985, -0.42797999, -0.39802554, -0.36887134,\n",
              "       -0.34047574, -0.31280025, -0.28580926, -0.25946972, -0.23375093,\n",
              "       -0.20862429, -0.18406316, -0.16004263, -0.13653943, -0.11353173,\n",
              "       -0.09099907, -0.06892225, -0.04728316, -0.02606481, -0.00525112,\n",
              "        0.01517303,  0.03522197,  0.05490922,  0.07424762,  0.09324931,\n",
              "        0.11192582,  0.13028808,  0.14834649,  0.16611096,  0.18359089,\n",
              "        0.20079526,  0.21773262,  0.23441113,  0.25083859,  0.26702243,\n",
              "        0.28296979,  0.29868747,  0.314182  ,  0.32945962,  0.34452631,\n",
              "        0.35938784,  0.37404971,  0.3885172 ,  0.40279542,  0.41688925,\n",
              "        0.43080338,  0.44454235,  0.45811051,  0.47151205,  0.48475102,\n",
              "        0.49783132,  0.5107567 ,  0.52353078,  0.53615708,  0.54863897,\n",
              "        0.56097972,  0.57318248,  0.5852503 ,  0.59718614,  0.60899285,\n",
              "        0.6206732 ,  0.63222986,  0.64366543,  0.65498241,  0.66618324,\n",
              "        0.67727029,  0.68824583,  0.69911209,  0.70987123,  0.72052533,\n",
              "        0.73107643,  0.74152649,  0.75187745,  0.76213115,  0.77228941,\n",
              "        0.78235399,  0.7923266 ,  0.8022089 ,  0.81200253,  0.82170905,\n",
              "        0.83133   ,  0.84086687,  0.85032113,  0.85969419,  0.86898744,\n",
              "        0.87820222,  0.88733985,  0.8964016 ,  0.90538873,  0.91430246,\n",
              "        0.92314397,  0.93191443,  0.94061497,  0.9492467 ,  0.95781069,\n",
              "        0.966308  ,  0.97473967,  0.98310669,  0.99141005,  0.99965071,\n",
              "        1.00782962,  1.01594768,  1.02400581,  1.03200487,  1.03994573,\n",
              "        1.04782923,  1.05565619,  1.06342742,  1.0711437 ,  1.0788058 ,\n",
              "        1.08641449,  1.0939705 ,  1.10147456,  1.10892737,  1.11632963,\n",
              "        1.12368202,  1.13098521,  1.13823985,  1.14544659,  1.15260605,\n",
              "        1.15971884,  1.16678559,  1.17380686,  1.18078326,  1.18771534,\n",
              "        1.19460367,  1.20144879,  1.20825125,  1.21501157,  1.22173027,\n",
              "        1.22840786,  1.23504484,  1.24164171,  1.24819894,  1.254717  ,\n",
              "        1.26119637,  1.2676375 ,  1.27404083,  1.28040681,  1.28673588,\n",
              "        1.29302845,  1.29928495,  1.30550578,  1.31169136,  1.31784208,\n",
              "        1.32395832,  1.33004048,  1.33608894,  1.34210405,  1.34808619,\n",
              "        1.35403573,  1.359953  ,  1.36583836,  1.37169216,  1.37751473,\n",
              "        1.38330639,  1.38906748,  1.39479832,  1.40049923,  1.4061705 ,\n",
              "        1.41181246,  1.41742541,  1.42300963,  1.42856542,  1.43409308,\n",
              "        1.43959288,  1.4450651 ,  1.45051002,  1.45592791,  1.46131903,\n",
              "        1.46668366,  1.47202204,  1.47733444,  1.48262111,  1.48788229,\n",
              "        1.49311822,  1.49832916,  1.50351534,  1.50867698,  1.51381433,\n",
              "        1.51892761,  1.52401704,  1.52908285,  1.53412526,  1.53914447,\n",
              "        1.54414071,  1.54911417,  1.55406508,  1.55899363,  1.56390001,\n",
              "        1.56878445,  1.57364711,  1.57848821,  1.58330793,  1.58810645,\n",
              "        1.59288397,  1.59764067,  1.60237673,  1.60709232,  1.61178762,\n",
              "        1.61646281,  1.62111806,  1.62575353,  1.6303694 ,  1.63496583,\n",
              "        1.63954298,  1.64410101,  1.64864009,  1.65316037,  1.657662  ,\n",
              "        1.66214514,  1.66660994,  1.67105654,  1.67548511,  1.67989577,\n",
              "        1.68428868,  1.68866398,  1.69302181,  1.69736231,  1.70168561,\n",
              "        1.70599186,  1.71028118,  1.7145537 ,  1.71880957,  1.72304891,\n",
              "        1.72727184,  1.73147849,  1.73566899,  1.73984346,  1.74400203,\n",
              "        1.74814481,  1.75227192,  1.75638349,  1.76047962,  1.76456043,\n",
              "        1.76862605,  1.77267657,  1.77671212,  1.7807328 ,  1.78473872,\n",
              "        1.78872999])"
            ]
          },
          "metadata": {},
          "execution_count": 38
        }
      ]
    },
    {
      "cell_type": "markdown",
      "source": [
        "\n",
        "* Now calculate $2.5^{\\log_{2.5}(a)}$ for each $a\\in$ __A__ to show. Is this equal to the original interval __A?__"
      ],
      "metadata": {
        "id": "El4XWs3LQHyX"
      }
    },
    {
      "cell_type": "code",
      "source": [
        "2.5**LOG(A,2.5)"
      ],
      "metadata": {
        "colab": {
          "base_uri": "https://localhost:8080/"
        },
        "id": "qPLCQDjtSvZm",
        "outputId": "ee4bf7d4-d1d2-48da-94bf-cef40b9d7f4e"
      },
      "execution_count": 39,
      "outputs": [
        {
          "output_type": "execute_result",
          "data": {
            "text/plain": [
              "array([0.45  , 0.4688, 0.4876, 0.5064, 0.5252, 0.544 , 0.5628, 0.5816,\n",
              "       0.6004, 0.6192, 0.638 , 0.6568, 0.6756, 0.6944, 0.7132, 0.732 ,\n",
              "       0.7508, 0.7696, 0.7884, 0.8072, 0.826 , 0.8448, 0.8636, 0.8824,\n",
              "       0.9012, 0.92  , 0.9388, 0.9576, 0.9764, 0.9952, 1.014 , 1.0328,\n",
              "       1.0516, 1.0704, 1.0892, 1.108 , 1.1268, 1.1456, 1.1644, 1.1832,\n",
              "       1.202 , 1.2208, 1.2396, 1.2584, 1.2772, 1.296 , 1.3148, 1.3336,\n",
              "       1.3524, 1.3712, 1.39  , 1.4088, 1.4276, 1.4464, 1.4652, 1.484 ,\n",
              "       1.5028, 1.5216, 1.5404, 1.5592, 1.578 , 1.5968, 1.6156, 1.6344,\n",
              "       1.6532, 1.672 , 1.6908, 1.7096, 1.7284, 1.7472, 1.766 , 1.7848,\n",
              "       1.8036, 1.8224, 1.8412, 1.86  , 1.8788, 1.8976, 1.9164, 1.9352,\n",
              "       1.954 , 1.9728, 1.9916, 2.0104, 2.0292, 2.048 , 2.0668, 2.0856,\n",
              "       2.1044, 2.1232, 2.142 , 2.1608, 2.1796, 2.1984, 2.2172, 2.236 ,\n",
              "       2.2548, 2.2736, 2.2924, 2.3112, 2.33  , 2.3488, 2.3676, 2.3864,\n",
              "       2.4052, 2.424 , 2.4428, 2.4616, 2.4804, 2.4992, 2.518 , 2.5368,\n",
              "       2.5556, 2.5744, 2.5932, 2.612 , 2.6308, 2.6496, 2.6684, 2.6872,\n",
              "       2.706 , 2.7248, 2.7436, 2.7624, 2.7812, 2.8   , 2.8188, 2.8376,\n",
              "       2.8564, 2.8752, 2.894 , 2.9128, 2.9316, 2.9504, 2.9692, 2.988 ,\n",
              "       3.0068, 3.0256, 3.0444, 3.0632, 3.082 , 3.1008, 3.1196, 3.1384,\n",
              "       3.1572, 3.176 , 3.1948, 3.2136, 3.2324, 3.2512, 3.27  , 3.2888,\n",
              "       3.3076, 3.3264, 3.3452, 3.364 , 3.3828, 3.4016, 3.4204, 3.4392,\n",
              "       3.458 , 3.4768, 3.4956, 3.5144, 3.5332, 3.552 , 3.5708, 3.5896,\n",
              "       3.6084, 3.6272, 3.646 , 3.6648, 3.6836, 3.7024, 3.7212, 3.74  ,\n",
              "       3.7588, 3.7776, 3.7964, 3.8152, 3.834 , 3.8528, 3.8716, 3.8904,\n",
              "       3.9092, 3.928 , 3.9468, 3.9656, 3.9844, 4.0032, 4.022 , 4.0408,\n",
              "       4.0596, 4.0784, 4.0972, 4.116 , 4.1348, 4.1536, 4.1724, 4.1912,\n",
              "       4.21  , 4.2288, 4.2476, 4.2664, 4.2852, 4.304 , 4.3228, 4.3416,\n",
              "       4.3604, 4.3792, 4.398 , 4.4168, 4.4356, 4.4544, 4.4732, 4.492 ,\n",
              "       4.5108, 4.5296, 4.5484, 4.5672, 4.586 , 4.6048, 4.6236, 4.6424,\n",
              "       4.6612, 4.68  , 4.6988, 4.7176, 4.7364, 4.7552, 4.774 , 4.7928,\n",
              "       4.8116, 4.8304, 4.8492, 4.868 , 4.8868, 4.9056, 4.9244, 4.9432,\n",
              "       4.962 , 4.9808, 4.9996, 5.0184, 5.0372, 5.056 , 5.0748, 5.0936,\n",
              "       5.1124, 5.1312, 5.15  ])"
            ]
          },
          "metadata": {},
          "execution_count": 39
        }
      ]
    },
    {
      "cell_type": "markdown",
      "source": [
        "* Hence, we see that $2.5^{\\log_{2.5}(a)} = a$ for each $a\\in$ __A__, as we expect!!!"
      ],
      "metadata": {
        "id": "S_FtByVXS2hD"
      }
    },
    {
      "cell_type": "markdown",
      "source": [
        "4. Plot $\\log_{2.5}(a)$ along the interval __A__"
      ],
      "metadata": {
        "id": "JJr8q6k1TINI"
      }
    },
    {
      "cell_type": "code",
      "source": [
        "plt.plot(A,LOG(A,2.5),lw=2,c='dodgerblue') # Plot the graph of 2.25**a for a in A\n",
        "\n",
        "plt.axhline(y=0,lw=0.75,c='black') # Plot the x-axis\n",
        "plt.axvline(x=0,lw=0.75,c='black') # Plot the y-axis\n",
        "\n",
        "plt.xlabel('$a$')\n",
        "plt.ylabel('$\\log_{2.5}(a)$')\n",
        "\n",
        "plt.show();"
      ],
      "metadata": {
        "colab": {
          "base_uri": "https://localhost:8080/",
          "height": 282
        },
        "id": "wG6x8GATTVkL",
        "outputId": "a874848c-cb4b-436e-878f-f27bd0f4c7ed"
      },
      "execution_count": 40,
      "outputs": [
        {
          "output_type": "display_data",
          "data": {
            "text/plain": [
              "<Figure size 432x288 with 1 Axes>"
            ],
            "image/png": "[encoded data removed]"
          },
          "metadata": {}
        }
      ]
    },
    {
      "cell_type": "code",
      "source": [],
      "metadata": {
        "id": "PtqXNFpSUj2_"
      },
      "execution_count": 40,
      "outputs": []
    },
    {
      "cell_type": "markdown",
      "source": [
        "## __Exercise__ 2.2\n",
        "\n",
        "1. Use __np.linspace()__ to define the interval __Q = [0.08 , 5]__ with __N = 161__ points"
      ],
      "metadata": {
        "id": "3msAVIKrUidw"
      }
    },
    {
      "cell_type": "code",
      "source": [],
      "metadata": {
        "id": "C2O2ibwnU_0_"
      },
      "execution_count": 40,
      "outputs": []
    },
    {
      "cell_type": "markdown",
      "source": [
        "2. Now use the function __LOG()__ to calculate $\\log_{0.45}(q)$ for each $q\\in$ __Q__"
      ],
      "metadata": {
        "id": "Vu4169P-Uitn"
      }
    },
    {
      "cell_type": "code",
      "source": [],
      "metadata": {
        "id": "3tsCcoeZVUcD"
      },
      "execution_count": 40,
      "outputs": []
    },
    {
      "cell_type": "markdown",
      "source": [
        "3. Plot the graph of $\\log_{0.45}(q)$ along the interval __Q__. \n",
        " \n",
        " * Show the $x$ and $y$ axes on this plot\n",
        "\n",
        " * At what value of $q$ does $\\log_{0.45}(q)$ cross the $x$-axis? Does this match the graph from _Example 2.1_?"
      ],
      "metadata": {
        "id": "-UoMpeJeVVKY"
      }
    },
    {
      "cell_type": "code",
      "source": [],
      "metadata": {
        "id": "sAlNweS4WV3H"
      },
      "execution_count": 40,
      "outputs": []
    },
    {
      "cell_type": "code",
      "source": [],
      "metadata": {
        "id": "gOuznjsiWV55"
      },
      "execution_count": 40,
      "outputs": []
    },
    {
      "cell_type": "markdown",
      "source": [
        "---\n",
        "# Section 3: The functions $e^{x}$ and  $\\ln(x)$\n",
        "\n",
        "\n",
        "## Section 3.1 - The exponential funciton \n",
        "\n",
        "### Euler's Number\n",
        "\n",
        "* The number $e=2.718281828459045...$ is called __Euler's Number__ (after the Swiss mathematician Leonhard Euler 1707-1783)\n",
        "\n",
        "* The number $e$ is an example of a __transcendental numbers,__ which basically means $e$ is not the root of some polynomial whose coefficients are whole numbers (like we saw in Wrokbook 1).\n",
        "\n",
        "* Euler's number is __defined__ as\n",
        "$$\n",
        "e = \\lim_{N\\to\\infty}\\left(1+ \\frac{1}{N}\\right)^{N}.\n",
        "$$\n",
        "\n",
        "\n",
        "\n",
        "### The Python function __np.exp()__\n",
        "\n",
        "* The __exponential function__ is usually written as \n",
        "$$\n",
        "e^{x}\\quad\\text{or}\\quad\\exp(x),\n",
        "$$ \n",
        "and they both mean Eulers number raised to the power of $x$.\n",
        "\n",
        "\n",
        "* Since $e=2.718281828459045...$ is a positive base, this means we can use any value $x\\in(-\\infty,+\\infty)$ for the exponent and get a __real output.__\n",
        "\n",
        "* The exonential is defined in a similar manner as Euler's number according to\n",
        "$$\n",
        "e^{x} = \\lim_{N\\to\\infty}\\left(1+\\frac{x}{N}\\right)^{N},\n",
        "$$\n",
        "however, this is not always to most useful definition. \n",
        "\n",
        "\n",
        "* The __numpy__ library already has this function defined as __np.exp()__ since it is such an important function which appears ubiquitously in Maths, Physics, Engineering, Finance, Biology,...\n",
        "\n",
        "* Euler's number now means \n",
        "$$\n",
        "e = e^{1} = \\exp(1),\n",
        "$$\n",
        "which we can compute using __np.exp(1)__ to give:"
      ],
      "metadata": {
        "id": "w6a94RJrsqCR"
      }
    },
    {
      "cell_type": "code",
      "source": [
        "np.exp(1)"
      ],
      "metadata": {
        "colab": {
          "base_uri": "https://localhost:8080/"
        },
        "id": "a7jIrhbJxdcJ",
        "outputId": "2878ce38-e311-4551-845d-ee9a5405e4d8"
      },
      "execution_count": 41,
      "outputs": [
        {
          "output_type": "execute_result",
          "data": {
            "text/plain": [
              "2.718281828459045"
            ]
          },
          "metadata": {},
          "execution_count": 41
        }
      ]
    },
    {
      "cell_type": "markdown",
      "source": [
        "* The decimal should have an infinite number of digits, however, python uses __float64__ to represent numbers and so is limited to __16-digits__ as you can see below:"
      ],
      "metadata": {
        "id": "QNQYl4fp11SN"
      }
    },
    {
      "cell_type": "code",
      "source": [
        "type(np.exp(1))"
      ],
      "metadata": {
        "colab": {
          "base_uri": "https://localhost:8080/"
        },
        "id": "sxvl4hT41vu5",
        "outputId": "dfb5f75c-1054-4655-88e1-6eba02d9963e"
      },
      "execution_count": 42,
      "outputs": [
        {
          "output_type": "execute_result",
          "data": {
            "text/plain": [
              "numpy.float64"
            ]
          },
          "metadata": {},
          "execution_count": 42
        }
      ]
    },
    {
      "cell_type": "markdown",
      "source": [
        "---"
      ],
      "metadata": {
        "id": "O-zT_Fw3AoWd"
      }
    },
    {
      "cell_type": "markdown",
      "source": [
        "## _Example 3.1_ - Radiocarbon Content\n",
        "\n",
        "* $\\mathbf{^{14}C}$ is a radioactive isotope of Carbon, which decays with a half-life of __5730 years__.\n",
        "\n",
        "* This means if we start with sample of __10 grams__  of $\\mathbf{^{14}C}$ say, then it will take apprximately __5730 years__ for this to radioactively decay down to __5 grams__  of $\\mathbf{^{14}C}$.\n",
        "\n",
        "\n",
        "* This is written mathematically as\n",
        "$$\n",
        "M(t) = M_{0} e^{-\\frac{\\ln 2}{5730}t}\n",
        "$$\n",
        "where $M_{0}$ is the __initial mass__ of Carbon-14, while $M(t)$ is the mass of Carbon-14 left after $t$-years.\n",
        "\n",
        "\n",
        "* The number $\\ln2=0.6931471805599453...$ is the __natural log of 2__, which we will cover in more detail in the next section.\n",
        "\n",
        "\n",
        "\n",
        "* A living tree naturally absorbs Carbon-14 from the atmosphere during photosynthesis, so any Carbon-14 which is lost by radioacitive decay is replaced, meaning there is a constant amount of $\\mathbf{^{14}C}$ present in a living tree.\n",
        "\n",
        "* When the tree dies it stops absorbing Carbon-14, and so the $\\mathbf{^{14}C}$ present in the dead tree or timber sample is always decaying radioactively.\n",
        "\n",
        "\n",
        "* If an Oak tree contains $7.5~\\mu$g of Carbon-14 when alive, use this information to answer the following:"
      ],
      "metadata": {
        "id": "cj97gJs8D0AI"
      }
    },
    {
      "cell_type": "markdown",
      "source": [
        "1. Define a function __m(t)__ to represnet to amount of carbon in the tree after it dies.\n",
        "\n",
        "\n",
        "\n",
        "\n",
        "\n"
      ],
      "metadata": {
        "id": "xU04dq9bLKdy"
      }
    },
    {
      "cell_type": "code",
      "source": [
        "def m(t):\n",
        "  m0=7.5\n",
        "  return m0*np.exp(-np.log(2)*t/5730)"
      ],
      "metadata": {
        "id": "yHIAK4KSMUsG"
      },
      "execution_count": 43,
      "outputs": []
    },
    {
      "cell_type": "markdown",
      "source": [
        "2. Plot the graph of $m(t)$ over the time interval __T = [ 0 , 2E4 ]__ (i.e. zero to 20,000 years after the tree dies).\n",
        "\n",
        "\n",
        "  * The Python syntax  __2E4__ means $2\\times10^{4}=20000$, so it is a useful way of writing powers of 10. "
      ],
      "metadata": {
        "id": "LT2M9kXdMNYF"
      }
    },
    {
      "cell_type": "code",
      "source": [
        "T=np.linspace(0,2E4,501)"
      ],
      "metadata": {
        "id": "pGRJjw5NMVaa"
      },
      "execution_count": 44,
      "outputs": []
    },
    {
      "cell_type": "code",
      "source": [
        "plt.plot(T,m(T),lw=2,c='dodgerblue') # Plot the graph of m(t) for for t between 0 and 20000 years\n",
        "\n",
        "plt.axhline(y=0,lw=0.75,c='black') # Plot the x-axis (time)\n",
        "plt.axvline(x=0,lw=0.75,c='black') # Plot the y-axis (Carbon-14 content)\n",
        "\n",
        "plt.xlabel('Time(years)') # Label the x-axis\n",
        "plt.ylabel('$^{14}$C content ($\\mu$g)') # Label the y-axis\n",
        "\n",
        "plt.show();"
      ],
      "metadata": {
        "colab": {
          "base_uri": "https://localhost:8080/",
          "height": 282
        },
        "id": "z2VKJcuZMsQv",
        "outputId": "d0f4610c-bcd7-4038-e3bf-5327b6748fc1"
      },
      "execution_count": 45,
      "outputs": [
        {
          "output_type": "display_data",
          "data": {
            "text/plain": [
              "<Figure size 432x288 with 1 Axes>"
            ],
            "image/png": "[encoded data removed]"
          },
          "metadata": {}
        }
      ]
    },
    {
      "cell_type": "markdown",
      "source": [
        "3. Calcuate the mass of $\\mathbf{^{14}C}$ left in the tree:\n",
        "  \n",
        "  * 10 years after it dies.\n",
        "\n",
        "  * 100 years after it dies.\n",
        "\n",
        "  * 5000 years after it dies.\n",
        "\n",
        "  * 10000 years after it dies."
      ],
      "metadata": {
        "id": "OSuSctcAMNL2"
      }
    },
    {
      "cell_type": "code",
      "source": [
        "m10=m(10)\n",
        "m100=m(100)\n",
        "m5000=m(5000)\n",
        "m20000=m(20000)\n",
        "m10,m100,m5000,m20000"
      ],
      "metadata": {
        "colab": {
          "base_uri": "https://localhost:8080/"
        },
        "id": "cNW2J9cUMWJS",
        "outputId": "392ac8ce-abb5-493c-8c8c-95425738272e"
      },
      "execution_count": 46,
      "outputs": [
        {
          "output_type": "execute_result",
          "data": {
            "text/plain": [
              "(7.4909328781925195, 7.409820471215901, 4.096211609381763, 0.6673378322069675)"
            ]
          },
          "metadata": {},
          "execution_count": 46
        }
      ]
    },
    {
      "cell_type": "markdown",
      "source": [
        "* We can see the following trend in the Carbon-14 content over the years:\n",
        "\n",
        "  * After 10 years there are 7.49 micro grams (almost the same)\n",
        "\n",
        "  * After 100 years there are 7.41 micro-grams (a slight reduction)\n",
        "\n",
        "  * After 5000 years there are 4.1 micro-grams (a little over half left)\n",
        "\n",
        "  * After 20000 years there are 0.67 micro-grams (less than 10\\% left)\n",
        "\n",
        "* This is in line with the graph in __Part 2.__ where we see the Carbon-14 content decreasing as time increases."
      ],
      "metadata": {
        "id": "UWeK5ne_N_02"
      }
    },
    {
      "cell_type": "markdown",
      "source": [
        "## Exercise 3.1 - Compound Interest\n",
        "\n",
        "* Another application of function $e^{x}$ is related to compound interest.\n",
        "\n",
        "* If you invest €1000 (the principal) at an annual interest rate of 2\\%, then after 1 year, you will have\n",
        "$$\n",
        "1000 + €1000\\times\\frac{2}{100} = €1000\\times(1+0.02)\n",
        "$$\n",
        "\n",
        "* However, your financial institiion might divide this annual rate into 4 eqal parts, and apply the interest a four stages in the year.\n",
        "\n",
        "* So after the __first stage__ you now have\n",
        "$$\n",
        "€1000\\times\\left(1+\\frac{0.02}{4}\\right),\n",
        "$$\n",
        "the __second stage__ you would have\n",
        "$$\n",
        "€1000\\times\\left(1+\\frac{0.02}{4}\\right)^2,\n",
        "$$\n",
        "after the __third stage__ you would have\n",
        "$$\n",
        "€1000\\times\\left(1+\\frac{0.02}{4}\\right)^3,\n",
        "$$\n",
        "and so after the __fourth stage__ (i.e. a fter a full year), you now have\n",
        "$$\n",
        "€1000\\times\\left(1+\\frac{0.02}{4}\\right)^4.\n",
        "$$\n",
        "\n",
        "* Now instead of dividing the interest rate by $4$, the financial inistitution may divide by $N$ and apply compund interest $N$ times, to give a return\n",
        "$$\n",
        "€1000\\times\\left(1+\\frac{0.02}{N}\\right)^{N}.\n",
        "$$\n",
        "\n",
        "\n",
        "* If the interest is applied 'infinitely often' over the year, then the return is\n",
        "$$\n",
        "€1000\\times\\lim_{N\\to\\infty}\\left(1+\\frac{0.02}{N}\\right)^{N} = €1000\\times e^{0.02}.\n",
        "$$\n",
        "\n",
        "\n",
        "* The exponential function is important in finance because  the __total return__ $R$ after __time $t$__ on a __principal $P$__ with __interest rate $i$__\n",
        "is now given by\n",
        "$$\n",
        "R(t) = Pe^{i t}. \n",
        "$$\n",
        "\n",
        "* A sum of $€18754$ is invested at an annual interest rate of $i=0.035$. Using this information, answer the following:"
      ],
      "metadata": {
        "id": "0tofWJIQO7pu"
      }
    },
    {
      "cell_type": "markdown",
      "source": [
        "  1. Define a function __T(t)__ to represent the total return after __t__ year."
      ],
      "metadata": {
        "id": "FypZbn4YopeM"
      }
    },
    {
      "cell_type": "code",
      "source": [
        "def R(t):\n",
        "  P=8754\n",
        "  i=0.035\n",
        "  return P*np.exp(i*t)"
      ],
      "metadata": {
        "id": "xQC513E4Kcxz"
      },
      "execution_count": 47,
      "outputs": []
    },
    {
      "cell_type": "markdown",
      "source": [
        "2. Plot the graph of toal return over the interval __T = [0, 4.5]__ years."
      ],
      "metadata": {
        "id": "DwBYvpVIpKdJ"
      }
    },
    {
      "cell_type": "code",
      "source": [],
      "metadata": {
        "id": "TeNgsJLqpDD2"
      },
      "execution_count": 61,
      "outputs": []
    },
    {
      "cell_type": "code",
      "source": [],
      "metadata": {
        "id": "ihWwbKBPpdxH"
      },
      "execution_count": 61,
      "outputs": []
    },
    {
      "cell_type": "markdown",
      "source": [
        "3. What is the __total return__ after:\n",
        "\n",
        "  * 6 months\n",
        "\n",
        "  * 18 months\n",
        "\n",
        "  * 2 years\n",
        "\n",
        "  * 3 years\n",
        "\n",
        "__IMPORTANT!__ Since __t__ is measured in years, you must write each of these times in terms of years, e.g. __6 months is 0.5 years.__"
      ],
      "metadata": {
        "id": "vLETCODpsMY-"
      }
    },
    {
      "cell_type": "code",
      "source": [],
      "metadata": {
        "id": "fwgQ0a2grk4Y"
      },
      "execution_count": 61,
      "outputs": []
    },
    {
      "cell_type": "code",
      "source": [],
      "metadata": {
        "id": "up_Ko_rks0Pn"
      },
      "execution_count": 61,
      "outputs": []
    },
    {
      "cell_type": "code",
      "source": [],
      "metadata": {
        "id": "hKtfEezcs1O3"
      },
      "execution_count": 61,
      "outputs": []
    },
    {
      "cell_type": "code",
      "source": [],
      "metadata": {
        "id": "j-1zLJNPs2mX"
      },
      "execution_count": 61,
      "outputs": []
    },
    {
      "cell_type": "markdown",
      "source": [
        "4. What it the return on the investment (i.e. the interest) after each time interval in __Part 3?__ "
      ],
      "metadata": {
        "id": "1GvMjH-0s5jF"
      }
    },
    {
      "cell_type": "code",
      "source": [],
      "metadata": {
        "id": "OUqWkMers4PH"
      },
      "execution_count": 61,
      "outputs": []
    },
    {
      "cell_type": "code",
      "source": [],
      "metadata": {
        "id": "0g7y8ZJ9tO63"
      },
      "execution_count": 61,
      "outputs": []
    },
    {
      "cell_type": "code",
      "source": [],
      "metadata": {
        "id": "Q8gUetJdtP6X"
      },
      "execution_count": 61,
      "outputs": []
    },
    {
      "cell_type": "code",
      "source": [],
      "metadata": {
        "id": "Dmuv-l76tRF3"
      },
      "execution_count": 61,
      "outputs": []
    },
    {
      "cell_type": "markdown",
      "source": [
        "---\n",
        "\n",
        "# Section 3.2 - The Natural Logarithm\n",
        "\n",
        "* The nautral logarithm $\\ln(a)$ means using the $\\log()$ function with base $e$, i.e.\n",
        "$$\n",
        "\\ln(a) \\stackrel{\\small{\\rm def}}{=} \\log_{e}(a)\n",
        "$$\n",
        "\n",
        "\n",
        "* It tells us the exponent $x$ we need to use in $e^{x}$ to give $a$.\n",
        "\n",
        "\n",
        "\n",
        "* The natural log $\\ln(x)$ is already defined in __numpy__, and is called __np.log()__\n",
        "\n",
        "\n",
        "* The functions __np.exp()__ and __np.log()__ are the __inverse__ of each other, which basically means they __cancel__ each other.\n",
        "\n",
        "\n",
        "* For example, we have \n",
        "$$\n",
        "\\ln(5) = 1.6094379124341003 \n",
        "$$\n",
        "and \n",
        "$$\n",
        "e^{1.6094379124341003} =5.\n",
        "$$\n",
        "\n",
        "* This can also be written as\n",
        "$$\n",
        "e^{\\ln(5)} = 5,\n",
        "$$\n",
        "i.e. $e$ and $\\ln$ cancel\n",
        " to give $5$.\n",
        "\n",
        " * We confirm this in the next two cells using the functions __np.log()__ and __np.exp():__"
      ],
      "metadata": {
        "id": "6N0SGXx8y5xo"
      }
    },
    {
      "cell_type": "code",
      "source": [
        "np.log(5)"
      ],
      "metadata": {
        "colab": {
          "base_uri": "https://localhost:8080/"
        },
        "id": "9UEXBrZmtSOn",
        "outputId": "b82d622a-a135-4512-96a1-ad81137fcc68"
      },
      "execution_count": 58,
      "outputs": [
        {
          "output_type": "execute_result",
          "data": {
            "text/plain": [
              "1.6094379124341003"
            ]
          },
          "metadata": {},
          "execution_count": 58
        }
      ]
    },
    {
      "cell_type": "code",
      "source": [
        "np.exp(1.6094379124341003)"
      ],
      "metadata": {
        "colab": {
          "base_uri": "https://localhost:8080/"
        },
        "id": "f_vCbd640SlY",
        "outputId": "a740463b-7f1e-4cf7-cdba-59259274efdc"
      },
      "execution_count": 59,
      "outputs": [
        {
          "output_type": "execute_result",
          "data": {
            "text/plain": [
              "4.999999999999999"
            ]
          },
          "metadata": {},
          "execution_count": 59
        }
      ]
    },
    {
      "cell_type": "code",
      "source": [
        "np.exp(np.log(5))"
      ],
      "metadata": {
        "colab": {
          "base_uri": "https://localhost:8080/"
        },
        "id": "Y03-VWef055o",
        "outputId": "7e5bec19-9d7c-4bc6-dccf-0d9515bfda46"
      },
      "execution_count": 60,
      "outputs": [
        {
          "output_type": "execute_result",
          "data": {
            "text/plain": [
              "4.999999999999999"
            ]
          },
          "metadata": {},
          "execution_count": 60
        }
      ]
    },
    {
      "cell_type": "markdown",
      "source": [
        "---"
      ],
      "metadata": {
        "id": "J0cgt9VyAvmu"
      }
    },
    {
      "cell_type": "markdown",
      "source": [
        "## Exercise 3.3:\n",
        "\n",
        "* This also works in the other direction, i.e. $\\ln(e^{x})=x$, so again the functions $\\ln$ and $\\exp$ also cancel to just leave $x$!!\n",
        "\n",
        "\n",
        "* Use the functions __np.log()__ and __np.exp()__ to show that \n",
        "$$\n",
        "\\ln\\left(e^{3.145}\\right) = 3.145\n",
        "$$"
      ],
      "metadata": {
        "id": "-asYccMO1DvQ"
      }
    },
    {
      "cell_type": "code",
      "source": [],
      "metadata": {
        "id": "OBwSVNQN1tqI"
      },
      "execution_count": 60,
      "outputs": []
    },
    {
      "cell_type": "code",
      "source": [],
      "metadata": {
        "id": "agRV5k2h14_A"
      },
      "execution_count": 60,
      "outputs": []
    },
    {
      "cell_type": "code",
      "source": [],
      "metadata": {
        "id": "7inEKmR3141F"
      },
      "execution_count": 60,
      "outputs": []
    },
    {
      "cell_type": "code",
      "source": [],
      "metadata": {
        "id": "hHXlHqig15d9"
      },
      "execution_count": 60,
      "outputs": []
    },
    {
      "cell_type": "markdown",
      "source": [
        "## Exercise 3.4\n",
        "\n",
        "* The fact $\\ln(x)$ and $e^{x}$ are __inverse functions__ can also be seen from the graphs of the functions.\n",
        "\n",
        "* We are going to plot the function $e^{x}$ over the interval __U = [-1 , 1]__ and then plot __np.log()__ on the __output np.exp(U)__ \n",
        "\n",
        "\n",
        "* We should find the the graph of one function is a __reflection__ of the other through the line $y=x$\n"
      ],
      "metadata": {
        "id": "GqkcBW7d16gY"
      }
    },
    {
      "cell_type": "markdown",
      "source": [
        "1. Use __np.linspace()__ to define the interval __U = [-1 , 1]__ with __501__ points."
      ],
      "metadata": {
        "id": "nnCfJMum2-ys"
      }
    },
    {
      "cell_type": "code",
      "source": [],
      "metadata": {
        "id": "mQW1c1bl2yrI"
      },
      "execution_count": 60,
      "outputs": []
    },
    {
      "cell_type": "code",
      "source": [],
      "metadata": {
        "id": "x-02YyDi7205"
      },
      "execution_count": 60,
      "outputs": []
    },
    {
      "cell_type": "code",
      "source": [],
      "metadata": {
        "id": "fY3EXWBV72yJ"
      },
      "execution_count": 60,
      "outputs": []
    },
    {
      "cell_type": "markdown",
      "source": [
        "2. Evaluate $e^{x}$ for each $x\\in$ __U,__ i.e. compute __np.exp(U)__ "
      ],
      "metadata": {
        "id": "KETwQ8X33M6m"
      }
    },
    {
      "cell_type": "code",
      "source": [],
      "metadata": {
        "id": "kwUItIkD3LYX"
      },
      "execution_count": 60,
      "outputs": []
    },
    {
      "cell_type": "code",
      "source": [],
      "metadata": {
        "id": "4HI16ga07zcF"
      },
      "execution_count": 60,
      "outputs": []
    },
    {
      "cell_type": "code",
      "source": [],
      "metadata": {
        "id": "fVHY9sms7zQc"
      },
      "execution_count": 60,
      "outputs": []
    },
    {
      "cell_type": "markdown",
      "source": [
        "3. In the cell below, plot the following using __np.plot():__ \n",
        "  \n",
        "  * __U , np.exp(U) , lw = 2 , c = 'navy'__\n",
        "\n",
        "  * __np.exp(U) , np.log(np.exp(U)) , lw = 2 , c = 'green'__\n",
        "\n",
        "  * __[-1 , 2.5] , [-1 , 2.5] , lw = 2 , c = 'gray'__ \n",
        "  \n",
        "  * Include the $x$ and $y$ axes in your plot also.\n",
        "\n",
        "\n",
        "### Comment:\n",
        "\n",
        "* The command __plt.plot( [ -1 , 2.5 ] , [ -1 , 2.5 ] )__ plots a line between the points $(-1,-1)$ and $(2.5,2.5)$.\n",
        "\n",
        "* The first set of square brackets i.e. __[ -1 , 2.5 ]__ is the list of $x$-coordinates, while the second set of square brackets, also __[ -1 , 2.5 ]__ is the list of $y$-coordinates.\n",
        "\n",
        "* This is the graph of $y=x$."
      ],
      "metadata": {
        "id": "DiuyDB3n31fY"
      }
    },
    {
      "cell_type": "code",
      "source": [
        "plt.figure(figsize=(8,8)) # This command sets the figure size to 8 inches in the horizontal and vertical, now fill in the rest!!\n",
        "\n",
        "\n",
        "\n",
        "\n",
        "\n"
      ],
      "metadata": {
        "colab": {
          "base_uri": "https://localhost:8080/",
          "height": 53
        },
        "id": "FBgFgcLZ7wQB",
        "outputId": "edce1305-91f6-4ed6-adf7-227e3fc079e9"
      },
      "execution_count": 61,
      "outputs": [
        {
          "output_type": "execute_result",
          "data": {
            "text/plain": [
              "<Figure size 576x576 with 0 Axes>"
            ]
          },
          "metadata": {},
          "execution_count": 61
        },
        {
          "output_type": "display_data",
          "data": {
            "text/plain": [
              "<Figure size 576x576 with 0 Axes>"
            ]
          },
          "metadata": {}
        }
      ]
    },
    {
      "cell_type": "code",
      "source": [],
      "metadata": {
        "id": "V0Ub-IU-7wFR"
      },
      "execution_count": 61,
      "outputs": []
    },
    {
      "cell_type": "code",
      "source": [],
      "metadata": {
        "id": "4e7sy-iA5gE5"
      },
      "execution_count": 61,
      "outputs": []
    }
  ],
  "metadata": {
    "colab": {
      "provenance": [],
      "include_colab_link": true
    },
    "kernelspec": {
      "display_name": "Python 3 (ipykernel)",
      "language": "python",
      "name": "python3"
    },
    "language_info": {
      "codemirror_mode": {
        "name": "ipython",
        "version": 3
      },
      "file_extension": ".py",
      "mimetype": "text/x-python",
      "name": "python",
      "nbconvert_exporter": "python",
      "pygments_lexer": "ipython3",
      "version": "3.9.7"
    }
  },
  "nbformat": 4,
  "nbformat_minor": 0
}